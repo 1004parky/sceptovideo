{
 "cells": [
  {
   "cell_type": "markdown",
   "metadata": {},
   "source": [
    "Analyzing time for each step in tracking.process_im function.\n",
    "\n",
    "Conclusion: Most time-intensive step was filtering blobs, which varied significantly depending on how many blobs the segmentation function returned."
   ]
  },
  {
   "cell_type": "code",
   "execution_count": 52,
   "metadata": {},
   "outputs": [],
   "source": [
    "import time\n",
    "import numpy as np\n",
    "import pandas as pd\n",
    "import os\n",
    "\n",
    "import skimage.io\n",
    "import skimage.morphology\n",
    "import scipy.spatial.distance\n",
    "import tracking\n",
    "\n",
    "import bootcamp_utils\n",
    "from behavioral_analysis import segmentation as seg\n",
    "import skimage.morphology"
   ]
  },
  {
   "cell_type": "code",
   "execution_count": 2,
   "metadata": {},
   "outputs": [],
   "source": [
    "_kw_dict = {'c': 'centroid',\n",
    "            'e': 'eccentricity',\n",
    "            'j': 'major_axis_length',\n",
    "            'n': 'minor_axis_length',\n",
    "            'o': 'orientation',\n",
    "            'p': 'perimeter',\n",
    "            's': 'area'}"
   ]
  },
  {
   "cell_type": "code",
   "execution_count": 75,
   "metadata": {},
   "outputs": [
    {
     "ename": "KeyboardInterrupt",
     "evalue": "",
     "output_type": "error",
     "traceback": [
      "\u001b[1;31m---------------------------------------------------------------------------\u001b[0m",
      "\u001b[1;31mKeyboardInterrupt\u001b[0m                         Traceback (most recent call last)",
      "\u001b[1;32m<ipython-input-75-fc48b66d8bbc>\u001b[0m in \u001b[0;36m<module>\u001b[1;34m()\u001b[0m\n\u001b[0;32m      1\u001b[0m \u001b[0mfdir\u001b[0m \u001b[1;33m=\u001b[0m \u001b[1;34m'//scepto.caltech.edu/Parker_lab/Christina_Julian/8_10_2018/'\u001b[0m\u001b[1;33m\u001b[0m\u001b[0m\n\u001b[0;32m      2\u001b[0m \u001b[1;33m\u001b[0m\u001b[0m\n\u001b[1;32m----> 3\u001b[1;33m \u001b[0mallfiles\u001b[0m \u001b[1;33m=\u001b[0m \u001b[0mos\u001b[0m\u001b[1;33m.\u001b[0m\u001b[0mlistdir\u001b[0m\u001b[1;33m(\u001b[0m\u001b[0mfdir\u001b[0m\u001b[1;33m)\u001b[0m\u001b[1;33m\u001b[0m\u001b[0m\n\u001b[0m\u001b[0;32m      4\u001b[0m \u001b[0mim_names\u001b[0m \u001b[1;33m=\u001b[0m \u001b[1;33m[\u001b[0m\u001b[0mf\u001b[0m \u001b[1;32mfor\u001b[0m \u001b[0mf\u001b[0m \u001b[1;32min\u001b[0m \u001b[0mallfiles\u001b[0m \u001b[1;32mif\u001b[0m \u001b[1;34m'.tiff'\u001b[0m \u001b[1;32min\u001b[0m \u001b[0mf\u001b[0m\u001b[1;33m]\u001b[0m\u001b[1;33m\u001b[0m\u001b[0m\n\u001b[0;32m      5\u001b[0m \u001b[0mim_names\u001b[0m \u001b[1;33m=\u001b[0m \u001b[0mim_names\u001b[0m\u001b[1;33m[\u001b[0m\u001b[1;33m:\u001b[0m\u001b[1;33m:\u001b[0m\u001b[1;36m600\u001b[0m\u001b[1;33m]\u001b[0m\u001b[1;33m\u001b[0m\u001b[0m\n",
      "\u001b[1;31mKeyboardInterrupt\u001b[0m: "
     ]
    }
   ],
   "source": [
    "fdir = '//scepto.caltech.edu/Parker_lab/Christina_Julian/8_10_2018/'\n",
    "\n",
    "allfiles = os.listdir(fdir)\n",
    "im_names = [f for f in allfiles if '.tiff' in f]\n",
    "im_names = im_names[::600]\n",
    "ims = [skimage.io.imread(fdir + f) for f in im_names]"
   ]
  },
  {
   "cell_type": "code",
   "execution_count": 109,
   "metadata": {},
   "outputs": [],
   "source": [
    "im_bg = skimage.io.imread('C:/Users/1004p/Desktop/Caltech Amgen 2018/Behavioral Analysis/sceptovideo/im_bg.tiff', as_gray = True)\n",
    "im = ims[1]"
   ]
  },
  {
   "cell_type": "code",
   "execution_count": 110,
   "metadata": {},
   "outputs": [
    {
     "name": "stdout",
     "output_type": "stream",
     "text": [
      "0.5502456291451381\n",
      "0.8125\n"
     ]
    }
   ],
   "source": [
    "s1 = time.perf_counter()\n",
    "s2 = time.process_time()\n",
    "\n",
    "im = seg.bg_subtract(im, im_bg)\n",
    "\n",
    "f1 = time.perf_counter()\n",
    "f2 = time.process_time()\n",
    "\n",
    "print(f1-s1)\n",
    "print(f2-s2)"
   ]
  },
  {
   "cell_type": "code",
   "execution_count": 111,
   "metadata": {},
   "outputs": [
    {
     "name": "stdout",
     "output_type": "stream",
     "text": [
      "70195\n",
      "13\n",
      "0.5123644200211857\n",
      "0.5\n"
     ]
    }
   ],
   "source": [
    "s1 = time.perf_counter()\n",
    "s2 = time.process_time()\n",
    "\n",
    "im_bw, im_labeled, n_labels = seg.segment(im)\n",
    "print(n_labels)\n",
    "\n",
    "im = skimage.morphology.remove_small_objects(im_labeled, min_size = 200, connectivity = 2) + 0\n",
    "im_labeled, n_labels = skimage.measure.label(im, return_num=True)\n",
    "print(n_labels)\n",
    "\n",
    "f1 = time.perf_counter()\n",
    "f2 = time.process_time()\n",
    "print(f1-s1)\n",
    "print(f2-s2)"
   ]
  },
  {
   "cell_type": "code",
   "execution_count": 112,
   "metadata": {},
   "outputs": [
    {
     "name": "stdout",
     "output_type": "stream",
     "text": [
      "0.04626756292873324\n",
      "0.046875\n"
     ]
    }
   ],
   "source": [
    "s1 = time.perf_counter()\n",
    "s2 = time.process_time()\n",
    "\n",
    "#specs is a list of all specimen [label, size, coordinates]\n",
    "specs = []\n",
    "properties = skimage.measure.regionprops(im_labeled)\n",
    "\n",
    "f1 = time.perf_counter()\n",
    "f2 = time.process_time()\n",
    "print(f1-s1)\n",
    "print(f2-s2)"
   ]
  },
  {
   "cell_type": "code",
   "execution_count": 113,
   "metadata": {},
   "outputs": [
    {
     "name": "stderr",
     "output_type": "stream",
     "text": [
      "C:\\ProgramData\\Anaconda3\\lib\\site-packages\\skimage\\measure\\_regionprops.py:250: UserWarning: regionprops and image moments (including moments, normalized moments, central moments, and inertia tensor) of 2D images will change from xy coordinates to rc coordinates in version 0.16.\n",
      "See http://scikit-image.org/docs/0.14.x/release_notes_and_installation.html#deprecations for details on how to avoid this message.\n",
      "  warn(XY_TO_RC_DEPRECATION_MESSAGE)\n",
      "C:\\ProgramData\\Anaconda3\\lib\\site-packages\\skimage\\measure\\_regionprops.py:260: UserWarning: regionprops and image moments (including moments, normalized moments, central moments, and inertia tensor) of 2D images will change from xy coordinates to rc coordinates in version 0.16.\n",
      "See http://scikit-image.org/docs/0.14.x/release_notes_and_installation.html#deprecations for details on how to avoid this message.\n",
      "  warn(XY_TO_RC_DEPRECATION_MESSAGE)\n"
     ]
    },
    {
     "name": "stdout",
     "output_type": "stream",
     "text": [
      "0.6986277557971334\n",
      "1.0625\n"
     ]
    }
   ],
   "source": [
    "include_frame = True\n",
    "frame_id = 0\n",
    "props = 'scjn'\n",
    "\n",
    "s1 = time.perf_counter()\n",
    "s2 = time.process_time()\n",
    "\n",
    "for i in range(n_labels):\n",
    "    if True:\n",
    "        blob = (im_labeled == (i+1)) + 0\n",
    "        if tracking.thresholding(blob, thresh_list=[(200, 9000), (0.88, 1)]):\n",
    "            spec_data = [properties[i][_kw_dict[x]] for x in props]\n",
    "            if include_frame:\n",
    "                spec_data.insert(0, frame_id)\n",
    "        else:\n",
    "            continue\n",
    "    else:\n",
    "        spec_data = [properties[i][_kw_dict[x]] for x in props]\n",
    "        if include_frame:\n",
    "            spec_data.insert(0, frame_id)\n",
    "    specs.append(spec_data)\n",
    "\n",
    "f1 = time.perf_counter()\n",
    "f2 = time.process_time()\n",
    "print(f1-s1)\n",
    "print(f2-s2)"
   ]
  },
  {
   "cell_type": "code",
   "execution_count": 118,
   "metadata": {},
   "outputs": [
    {
     "name": "stdout",
     "output_type": "stream",
     "text": [
      "[0, 255, (1992.4901960784314, 2.4784313725490197), 47.700264345491156, 7.508512568644098]\n",
      "   frame  area                                  centroid  major_axis_length  \\\n",
      "0      0  1605   (1.5246105919003115, 570.9520249221184)         473.911629   \n",
      "1      0  2231  (1.6024204392649037, 1421.7669206633796)         743.662347   \n",
      "2      0   253   (44.72727272727273, 3.6284584980237153)          35.012871   \n",
      "3      0   255  (1992.4901960784314, 2.4784313725490197)          47.700264   \n",
      "\n",
      "   minor_axis_length            x            y  \n",
      "0           4.847631     1.524611   570.952025  \n",
      "1           4.903344     1.602420  1421.766921  \n",
      "2          10.155144    44.727273     3.628458  \n",
      "3           7.508513  1992.490196     2.478431  \n"
     ]
    }
   ],
   "source": [
    "print(spec_data)\n",
    "df = pd.DataFrame(data=specs, columns=col_names)\n",
    "df1 = df.reindex(columns = col_names + ['x', 'y'])\n",
    "df1[['x', 'y']] = df['centroid'].apply(pd.Series)\n",
    "print(df1.head())"
   ]
  },
  {
   "cell_type": "code",
   "execution_count": 114,
   "metadata": {},
   "outputs": [
    {
     "name": "stdout",
     "output_type": "stream",
     "text": [
      "0.008488279529956344\n",
      "0.0\n"
     ]
    }
   ],
   "source": [
    "s1 = time.perf_counter()\n",
    "s2 = time.process_time()\n",
    "\n",
    "col_names = [_kw_dict[x] for x in props]\n",
    "if include_frame:\n",
    "    col_names.insert(0, 'frame')\n",
    "\n",
    "df = pd.DataFrame(data=specs, columns=col_names)\n",
    "df[['x', 'y']] = df['centroid'].apply(pd.Series)\n",
    "df.drop('centroid', axis = 1, inplace = True)\n",
    "\n",
    "f1 = time.perf_counter()\n",
    "f2 = time.process_time()\n",
    "print(f1-s1)\n",
    "print(f2-s2)"
   ]
  },
  {
   "cell_type": "code",
   "execution_count": 33,
   "metadata": {},
   "outputs": [
    {
     "name": "stdout",
     "output_type": "stream",
     "text": [
      "0.0001900243159980164\n",
      "0.0\n"
     ]
    }
   ],
   "source": [
    "sep_centroid = True\n",
    "\n",
    "s1 = time.perf_counter()\n",
    "s2 = time.process_time()\n",
    "\n",
    "if type(im) != np.ndarray:\n",
    "    raise Exception('im must be a 2d numpy ndarray.')\n",
    "if len(props) != len(set(props)):\n",
    "    print('WARNING: Some property keywords are repeated. Redundancies were removed.')\n",
    "    props = list(sorted(set(props), key=props.index))\n",
    "if type(include_frame) != bool:\n",
    "    raise Exception('include_frame must be a boolean.')\n",
    "if type(im_bg) != np.ndarray:\n",
    "    if im_bg == None:\n",
    "        pass\n",
    "    else:\n",
    "        raise Exception('im_bg must be a 2d numpy ndarray.')\n",
    "if sep_centroid and 'c' not in props:\n",
    "    raise Exception('There is no centroid data to separate.')\n",
    "\n",
    "f1 = time.perf_counter()\n",
    "f2 = time.process_time()\n",
    "print(f1-s1)\n",
    "print(f2-s2)"
   ]
  },
  {
   "cell_type": "code",
   "execution_count": 115,
   "metadata": {},
   "outputs": [
    {
     "data": {
      "text/html": [
       "<div>\n",
       "<style scoped>\n",
       "    .dataframe tbody tr th:only-of-type {\n",
       "        vertical-align: middle;\n",
       "    }\n",
       "\n",
       "    .dataframe tbody tr th {\n",
       "        vertical-align: top;\n",
       "    }\n",
       "\n",
       "    .dataframe thead th {\n",
       "        text-align: right;\n",
       "    }\n",
       "</style>\n",
       "<table border=\"1\" class=\"dataframe\">\n",
       "  <thead>\n",
       "    <tr style=\"text-align: right;\">\n",
       "      <th></th>\n",
       "      <th>frame</th>\n",
       "      <th>area</th>\n",
       "      <th>major_axis_length</th>\n",
       "      <th>minor_axis_length</th>\n",
       "      <th>x</th>\n",
       "      <th>y</th>\n",
       "    </tr>\n",
       "  </thead>\n",
       "  <tbody>\n",
       "    <tr>\n",
       "      <th>0</th>\n",
       "      <td>0</td>\n",
       "      <td>1605</td>\n",
       "      <td>473.911629</td>\n",
       "      <td>4.847631</td>\n",
       "      <td>1.524611</td>\n",
       "      <td>570.952025</td>\n",
       "    </tr>\n",
       "    <tr>\n",
       "      <th>1</th>\n",
       "      <td>0</td>\n",
       "      <td>2231</td>\n",
       "      <td>743.662347</td>\n",
       "      <td>4.903344</td>\n",
       "      <td>1.602420</td>\n",
       "      <td>1421.766921</td>\n",
       "    </tr>\n",
       "    <tr>\n",
       "      <th>2</th>\n",
       "      <td>0</td>\n",
       "      <td>253</td>\n",
       "      <td>35.012871</td>\n",
       "      <td>10.155144</td>\n",
       "      <td>44.727273</td>\n",
       "      <td>3.628458</td>\n",
       "    </tr>\n",
       "    <tr>\n",
       "      <th>3</th>\n",
       "      <td>0</td>\n",
       "      <td>255</td>\n",
       "      <td>47.700264</td>\n",
       "      <td>7.508513</td>\n",
       "      <td>1992.490196</td>\n",
       "      <td>2.478431</td>\n",
       "    </tr>\n",
       "  </tbody>\n",
       "</table>\n",
       "</div>"
      ],
      "text/plain": [
       "   frame  area  major_axis_length  minor_axis_length            x            y\n",
       "0      0  1605         473.911629           4.847631     1.524611   570.952025\n",
       "1      0  2231         743.662347           4.903344     1.602420  1421.766921\n",
       "2      0   253          35.012871          10.155144    44.727273     3.628458\n",
       "3      0   255          47.700264           7.508513  1992.490196     2.478431"
      ]
     },
     "execution_count": 115,
     "metadata": {},
     "output_type": "execute_result"
    }
   ],
   "source": [
    "df"
   ]
  },
  {
   "cell_type": "code",
   "execution_count": null,
   "metadata": {},
   "outputs": [],
   "source": []
  }
 ],
 "metadata": {
  "kernelspec": {
   "display_name": "Python 3",
   "language": "python",
   "name": "python3"
  },
  "language_info": {
   "codemirror_mode": {
    "name": "ipython",
    "version": 3
   },
   "file_extension": ".py",
   "mimetype": "text/x-python",
   "name": "python",
   "nbconvert_exporter": "python",
   "pygments_lexer": "ipython3",
   "version": "3.6.5"
  }
 },
 "nbformat": 4,
 "nbformat_minor": 2
}
